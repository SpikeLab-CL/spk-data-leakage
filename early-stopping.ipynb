{
 "cells": [
  {
   "cell_type": "code",
   "execution_count": 115,
   "metadata": {},
   "outputs": [],
   "source": [
    "import numpy as np\n",
    "import pandas as pd\n",
    "\n",
    "from sklearn import preprocessing\n",
    "from sklearn import model_selection\n",
    "from sklearn import metrics\n",
    "\n",
    "import lightgbm as lgb"
   ]
  },
  {
   "cell_type": "code",
   "execution_count": 4,
   "metadata": {},
   "outputs": [
    {
     "name": "stdout",
     "output_type": "stream",
     "text": [
      "sample_submission.csv test.csv              train.csv\n"
     ]
    }
   ],
   "source": [
    "!ls input/health-insurance-cross-sell-prediction"
   ]
  },
  {
   "cell_type": "code",
   "execution_count": 5,
   "metadata": {},
   "outputs": [],
   "source": [
    "train = pd.read_csv(\"input/health-insurance-cross-sell-prediction/train.csv\")"
   ]
  },
  {
   "cell_type": "code",
   "execution_count": 7,
   "metadata": {},
   "outputs": [],
   "source": [
    "train.columns = [col.lower() for col in train.columns]"
   ]
  },
  {
   "cell_type": "code",
   "execution_count": 32,
   "metadata": {},
   "outputs": [],
   "source": [
    "numeric_cols = [\"age\", \"driving_license\", \"previously_insured\", \"annual_premium\", \"vintage\", ]\n",
    "categoric_cols = [\"gender\", \"region_code\", \"vehicle_age\", \"vehicle_damage\", \"policy_sales_channel\", ]\n",
    "input_cols = numeric_cols + categoric_cols\n",
    "target = \"response\""
   ]
  },
  {
   "cell_type": "code",
   "execution_count": 26,
   "metadata": {},
   "outputs": [],
   "source": [
    "cat_encoder = preprocessing.OrdinalEncoder()\n",
    "train.loc[:, categoric_cols] = cat_encoder.fit_transform(train.loc[:, categoric_cols])"
   ]
  },
  {
   "cell_type": "code",
   "execution_count": 29,
   "metadata": {},
   "outputs": [
    {
     "data": {
      "text/plain": [
       "0.12256336113815208"
      ]
     },
     "execution_count": 29,
     "metadata": {},
     "output_type": "execute_result"
    }
   ],
   "source": [
    "train.response.sum() / train.shape[0]"
   ]
  },
  {
   "cell_type": "markdown",
   "metadata": {},
   "source": [
    "***\n",
    "## Model validation through StratifiedKFold"
   ]
  },
  {
   "cell_type": "code",
   "execution_count": 46,
   "metadata": {},
   "outputs": [],
   "source": [
    "def cast_to_lgb_dset(X, y, categorical_cols):\n",
    "    lgb_dset = lgb.Dataset(\n",
    "        data = X,\n",
    "        label = y,\n",
    "        categorical_feature = categorical_cols,\n",
    "        free_raw_data = False,\n",
    "    )\n",
    "    return lgb_dset\n",
    "\n",
    "model_params = {\n",
    "    \"objective\": \"binary\",\n",
    "    \"metric\":\"auc\",\n",
    "    \"boosting\": \"gbdt\",\n",
    "    \"learning_rate\": 0.05,\n",
    "    \"num_leaves\": 31,\n",
    "    \"max_depth\": -1,\n",
    "    \"min_data_in_leaf\": 20,\n",
    "    \"bagging_fraction\": 0.8,\n",
    "    \"feature_fraction\": 0.9,\n",
    "    \"seed\": 42,\n",
    "    \"deterministic\": True,\n",
    "    \"verbose\": -1,\n",
    "}"
   ]
  },
  {
   "cell_type": "code",
   "execution_count": 31,
   "metadata": {},
   "outputs": [],
   "source": [
    "skf = model_selection.StratifiedKFold(n_splits=5, shuffle=True, random_state=19)"
   ]
  },
  {
   "cell_type": "code",
   "execution_count": 78,
   "metadata": {},
   "outputs": [
    {
     "name": "stderr",
     "output_type": "stream",
     "text": [
      "/Users/mavillan/miniconda3/lib/python3.8/site-packages/lightgbm/basic.py:1551: UserWarning: Using categorical_feature in Dataset.\n",
      "  warnings.warn('Using categorical_feature in Dataset.')\n",
      "/Users/mavillan/miniconda3/lib/python3.8/site-packages/lightgbm/basic.py:1286: UserWarning: Overriding the parameters from Reference Dataset.\n",
      "  warnings.warn('Overriding the parameters from Reference Dataset.')\n",
      "/Users/mavillan/miniconda3/lib/python3.8/site-packages/lightgbm/basic.py:1098: UserWarning: categorical_column in param dict is overridden.\n",
      "  warnings.warn('{} in param dict is overridden.'.format(cat_alias))\n"
     ]
    },
    {
     "name": "stdout",
     "output_type": "stream",
     "text": [
      "Training until validation scores don't improve for 50 rounds\n",
      "[25]\tvalid_0's auc: 0.857356\n",
      "[50]\tvalid_0's auc: 0.858065\n",
      "[75]\tvalid_0's auc: 0.858455\n",
      "[100]\tvalid_0's auc: 0.85857\n",
      "[125]\tvalid_0's auc: 0.858645\n",
      "[150]\tvalid_0's auc: 0.858738\n",
      "[175]\tvalid_0's auc: 0.858791\n",
      "[200]\tvalid_0's auc: 0.858803\n",
      "[225]\tvalid_0's auc: 0.85876\n",
      "[250]\tvalid_0's auc: 0.858752\n",
      "Early stopping, best iteration is:\n",
      "[218]\tvalid_0's auc: 0.858813\n",
      "Training until validation scores don't improve for 50 rounds\n",
      "[25]\tvalid_0's auc: 0.858052\n",
      "[50]\tvalid_0's auc: 0.859033\n",
      "[75]\tvalid_0's auc: 0.859458\n",
      "[100]\tvalid_0's auc: 0.859678\n",
      "[125]\tvalid_0's auc: 0.859575\n",
      "Early stopping, best iteration is:\n",
      "[96]\tvalid_0's auc: 0.859699\n",
      "Training until validation scores don't improve for 50 rounds\n",
      "[25]\tvalid_0's auc: 0.856594\n",
      "[50]\tvalid_0's auc: 0.857519\n",
      "[75]\tvalid_0's auc: 0.85793\n",
      "[100]\tvalid_0's auc: 0.858038\n",
      "[125]\tvalid_0's auc: 0.858047\n",
      "Early stopping, best iteration is:\n",
      "[93]\tvalid_0's auc: 0.858056\n",
      "Training until validation scores don't improve for 50 rounds\n",
      "[25]\tvalid_0's auc: 0.855023\n",
      "[50]\tvalid_0's auc: 0.855691\n",
      "[75]\tvalid_0's auc: 0.855837\n",
      "[100]\tvalid_0's auc: 0.855864\n",
      "[125]\tvalid_0's auc: 0.855852\n",
      "Early stopping, best iteration is:\n",
      "[86]\tvalid_0's auc: 0.855922\n",
      "Training until validation scores don't improve for 50 rounds\n",
      "[25]\tvalid_0's auc: 0.857562\n",
      "[50]\tvalid_0's auc: 0.858444\n",
      "[75]\tvalid_0's auc: 0.858837\n",
      "[100]\tvalid_0's auc: 0.859098\n",
      "[125]\tvalid_0's auc: 0.859044\n",
      "[150]\tvalid_0's auc: 0.859159\n",
      "[175]\tvalid_0's auc: 0.858974\n",
      "[200]\tvalid_0's auc: 0.858967\n",
      "Early stopping, best iteration is:\n",
      "[150]\tvalid_0's auc: 0.859159\n"
     ]
    }
   ],
   "source": [
    "cv_scores = list()\n",
    "best_iterations = list()\n",
    "\n",
    "for train_idx,valid_idx in skf.split(train.loc[:,input_cols], train.loc[:,target]):\n",
    "    \n",
    "    X_train,y_train = train.loc[train_idx,input_cols], train.loc[train_idx,target]\n",
    "    X_valid,y_valid = train.loc[valid_idx,input_cols], train.loc[valid_idx,target]\n",
    "\n",
    "    train_dset = cast_to_lgb_dset(X_train, y_train, categoric_cols)\n",
    "    valid_dset = cast_to_lgb_dset(X_valid, y_valid, categoric_cols)\n",
    "    \n",
    "    _model = lgb.train(\n",
    "    train_set = train_dset,\n",
    "    valid_sets = [valid_dset, ],\n",
    "    num_boost_round = 10000,\n",
    "    early_stopping_rounds = 50,\n",
    "    params = model_params, \n",
    "    verbose_eval=25,\n",
    "    )\n",
    "    \n",
    "    cv_scores.append(_model.best_score[\"valid_0\"][\"auc\"])\n",
    "    best_iterations.append(_model.best_iteration)"
   ]
  },
  {
   "cell_type": "code",
   "execution_count": 83,
   "metadata": {},
   "outputs": [
    {
     "name": "stdout",
     "output_type": "stream",
     "text": [
      "CV AUC: 0.85833\n",
      "Best iterations by fold: [218, 96, 93, 86, 150]\n"
     ]
    }
   ],
   "source": [
    "print(f\"CV AUC: {np.mean(cv_scores):0.5f}\")\n",
    "print(f\"Best iterations by fold: {best_iterations}\")"
   ]
  },
  {
   "cell_type": "markdown",
   "metadata": {},
   "source": [
    "***\n",
    "### Nested cross validation"
   ]
  },
  {
   "cell_type": "code",
   "execution_count": 85,
   "metadata": {},
   "outputs": [],
   "source": [
    "skf_outer = model_selection.StratifiedKFold(n_splits=5, shuffle=True, random_state=19)"
   ]
  },
  {
   "cell_type": "code",
   "execution_count": 128,
   "metadata": {},
   "outputs": [
    {
     "name": "stderr",
     "output_type": "stream",
     "text": [
      "/Users/mavillan/miniconda3/lib/python3.8/site-packages/lightgbm/basic.py:1551: UserWarning: Using categorical_feature in Dataset.\n",
      "  warnings.warn('Using categorical_feature in Dataset.')\n",
      "/Users/mavillan/miniconda3/lib/python3.8/site-packages/lightgbm/basic.py:1286: UserWarning: Overriding the parameters from Reference Dataset.\n",
      "  warnings.warn('Overriding the parameters from Reference Dataset.')\n",
      "/Users/mavillan/miniconda3/lib/python3.8/site-packages/lightgbm/basic.py:1098: UserWarning: categorical_column in param dict is overridden.\n",
      "  warnings.warn('{} in param dict is overridden.'.format(cat_alias))\n"
     ]
    },
    {
     "name": "stdout",
     "output_type": "stream",
     "text": [
      "Training until validation scores don't improve for 50 rounds\n",
      "[25]\tvalid_0's auc: 0.856549\n",
      "[50]\tvalid_0's auc: 0.857292\n",
      "[75]\tvalid_0's auc: 0.857671\n",
      "[100]\tvalid_0's auc: 0.857699\n",
      "[125]\tvalid_0's auc: 0.857731\n",
      "Early stopping, best iteration is:\n",
      "[92]\tvalid_0's auc: 0.857802\n",
      "Training until validation scores don't improve for 50 rounds\n",
      "[25]\tvalid_0's auc: 0.858196\n",
      "[50]\tvalid_0's auc: 0.859119\n",
      "[75]\tvalid_0's auc: 0.859632\n",
      "[100]\tvalid_0's auc: 0.859757\n",
      "[125]\tvalid_0's auc: 0.859769\n",
      "[150]\tvalid_0's auc: 0.859804\n",
      "[175]\tvalid_0's auc: 0.859828\n",
      "[200]\tvalid_0's auc: 0.859827\n",
      "[225]\tvalid_0's auc: 0.859948\n",
      "[250]\tvalid_0's auc: 0.860055\n",
      "[275]\tvalid_0's auc: 0.860086\n",
      "[300]\tvalid_0's auc: 0.860043\n",
      "[325]\tvalid_0's auc: 0.859902\n",
      "Early stopping, best iteration is:\n",
      "[275]\tvalid_0's auc: 0.860086\n",
      "Training until validation scores don't improve for 50 rounds\n",
      "[25]\tvalid_0's auc: 0.855141\n",
      "[50]\tvalid_0's auc: 0.856013\n",
      "[75]\tvalid_0's auc: 0.85629\n",
      "[100]\tvalid_0's auc: 0.856322\n",
      "[125]\tvalid_0's auc: 0.856392\n",
      "[150]\tvalid_0's auc: 0.856421\n",
      "[175]\tvalid_0's auc: 0.85633\n",
      "Early stopping, best iteration is:\n",
      "[144]\tvalid_0's auc: 0.856424\n",
      "Training until validation scores don't improve for 50 rounds\n",
      "[25]\tvalid_0's auc: 0.85693\n",
      "[50]\tvalid_0's auc: 0.857567\n",
      "[75]\tvalid_0's auc: 0.857964\n",
      "[100]\tvalid_0's auc: 0.857993\n",
      "[125]\tvalid_0's auc: 0.858059\n",
      "[150]\tvalid_0's auc: 0.858129\n",
      "[175]\tvalid_0's auc: 0.85801\n",
      "[200]\tvalid_0's auc: 0.857975\n",
      "Early stopping, best iteration is:\n",
      "[152]\tvalid_0's auc: 0.858135\n",
      "Training until validation scores don't improve for 50 rounds\n",
      "[25]\tvalid_0's auc: 0.855473\n",
      "[50]\tvalid_0's auc: 0.85642\n",
      "[75]\tvalid_0's auc: 0.856931\n",
      "[100]\tvalid_0's auc: 0.857128\n",
      "[125]\tvalid_0's auc: 0.857076\n",
      "[150]\tvalid_0's auc: 0.8571\n",
      "[175]\tvalid_0's auc: 0.857205\n",
      "[200]\tvalid_0's auc: 0.857209\n",
      "[225]\tvalid_0's auc: 0.857125\n",
      "Early stopping, best iteration is:\n",
      "[193]\tvalid_0's auc: 0.857252\n"
     ]
    },
    {
     "name": "stderr",
     "output_type": "stream",
     "text": [
      "/Users/mavillan/miniconda3/lib/python3.8/site-packages/lightgbm/basic.py:1551: UserWarning: Using categorical_feature in Dataset.\n",
      "  warnings.warn('Using categorical_feature in Dataset.')\n",
      "/Users/mavillan/miniconda3/lib/python3.8/site-packages/lightgbm/basic.py:1286: UserWarning: Overriding the parameters from Reference Dataset.\n",
      "  warnings.warn('Overriding the parameters from Reference Dataset.')\n",
      "/Users/mavillan/miniconda3/lib/python3.8/site-packages/lightgbm/basic.py:1098: UserWarning: categorical_column in param dict is overridden.\n",
      "  warnings.warn('{} in param dict is overridden.'.format(cat_alias))\n"
     ]
    },
    {
     "name": "stdout",
     "output_type": "stream",
     "text": [
      "Training until validation scores don't improve for 50 rounds\n",
      "[25]\tvalid_0's auc: 0.856257\n",
      "[50]\tvalid_0's auc: 0.856753\n",
      "[75]\tvalid_0's auc: 0.857136\n",
      "[100]\tvalid_0's auc: 0.857109\n",
      "[125]\tvalid_0's auc: 0.857064\n",
      "Early stopping, best iteration is:\n",
      "[79]\tvalid_0's auc: 0.857165\n",
      "Training until validation scores don't improve for 50 rounds\n",
      "[25]\tvalid_0's auc: 0.856794\n",
      "[50]\tvalid_0's auc: 0.857318\n",
      "[75]\tvalid_0's auc: 0.857641\n",
      "[100]\tvalid_0's auc: 0.85772\n",
      "[125]\tvalid_0's auc: 0.857716\n",
      "Early stopping, best iteration is:\n",
      "[90]\tvalid_0's auc: 0.857754\n",
      "Training until validation scores don't improve for 50 rounds\n",
      "[25]\tvalid_0's auc: 0.855075\n",
      "[50]\tvalid_0's auc: 0.856049\n",
      "[75]\tvalid_0's auc: 0.856311\n",
      "[100]\tvalid_0's auc: 0.856365\n",
      "[125]\tvalid_0's auc: 0.856357\n",
      "[150]\tvalid_0's auc: 0.856457\n",
      "[175]\tvalid_0's auc: 0.856325\n",
      "Early stopping, best iteration is:\n",
      "[144]\tvalid_0's auc: 0.85647\n",
      "Training until validation scores don't improve for 50 rounds\n",
      "[25]\tvalid_0's auc: 0.855214\n",
      "[50]\tvalid_0's auc: 0.856323\n",
      "[75]\tvalid_0's auc: 0.856468\n",
      "[100]\tvalid_0's auc: 0.856497\n",
      "[125]\tvalid_0's auc: 0.856504\n",
      "[150]\tvalid_0's auc: 0.856597\n",
      "[175]\tvalid_0's auc: 0.856642\n",
      "[200]\tvalid_0's auc: 0.856594\n",
      "Early stopping, best iteration is:\n",
      "[169]\tvalid_0's auc: 0.856658\n",
      "Training until validation scores don't improve for 50 rounds\n",
      "[25]\tvalid_0's auc: 0.857735\n",
      "[50]\tvalid_0's auc: 0.858298\n",
      "[75]\tvalid_0's auc: 0.858443\n",
      "[100]\tvalid_0's auc: 0.858544\n",
      "[125]\tvalid_0's auc: 0.858539\n",
      "[150]\tvalid_0's auc: 0.858526\n",
      "Early stopping, best iteration is:\n",
      "[113]\tvalid_0's auc: 0.858571\n"
     ]
    },
    {
     "name": "stderr",
     "output_type": "stream",
     "text": [
      "/Users/mavillan/miniconda3/lib/python3.8/site-packages/lightgbm/basic.py:1551: UserWarning: Using categorical_feature in Dataset.\n",
      "  warnings.warn('Using categorical_feature in Dataset.')\n",
      "/Users/mavillan/miniconda3/lib/python3.8/site-packages/lightgbm/basic.py:1286: UserWarning: Overriding the parameters from Reference Dataset.\n",
      "  warnings.warn('Overriding the parameters from Reference Dataset.')\n",
      "/Users/mavillan/miniconda3/lib/python3.8/site-packages/lightgbm/basic.py:1098: UserWarning: categorical_column in param dict is overridden.\n",
      "  warnings.warn('{} in param dict is overridden.'.format(cat_alias))\n"
     ]
    },
    {
     "name": "stdout",
     "output_type": "stream",
     "text": [
      "Training until validation scores don't improve for 50 rounds\n",
      "[25]\tvalid_0's auc: 0.855418\n",
      "[50]\tvalid_0's auc: 0.856435\n",
      "[75]\tvalid_0's auc: 0.856838\n",
      "[100]\tvalid_0's auc: 0.856811\n",
      "[125]\tvalid_0's auc: 0.856812\n",
      "Early stopping, best iteration is:\n",
      "[76]\tvalid_0's auc: 0.85685\n",
      "Training until validation scores don't improve for 50 rounds\n",
      "[25]\tvalid_0's auc: 0.85962\n",
      "[50]\tvalid_0's auc: 0.860599\n",
      "[75]\tvalid_0's auc: 0.861035\n",
      "[100]\tvalid_0's auc: 0.861184\n",
      "[125]\tvalid_0's auc: 0.861188\n",
      "[150]\tvalid_0's auc: 0.861177\n",
      "Early stopping, best iteration is:\n",
      "[109]\tvalid_0's auc: 0.861226\n",
      "Training until validation scores don't improve for 50 rounds\n",
      "[25]\tvalid_0's auc: 0.855449\n",
      "[50]\tvalid_0's auc: 0.856139\n",
      "[75]\tvalid_0's auc: 0.856369\n",
      "[100]\tvalid_0's auc: 0.856435\n",
      "[125]\tvalid_0's auc: 0.856416\n",
      "[150]\tvalid_0's auc: 0.856413\n",
      "Early stopping, best iteration is:\n",
      "[101]\tvalid_0's auc: 0.856447\n",
      "Training until validation scores don't improve for 50 rounds\n",
      "[25]\tvalid_0's auc: 0.856169\n",
      "[50]\tvalid_0's auc: 0.856911\n",
      "[75]\tvalid_0's auc: 0.857323\n",
      "[100]\tvalid_0's auc: 0.857322\n",
      "[125]\tvalid_0's auc: 0.857262\n",
      "Early stopping, best iteration is:\n",
      "[85]\tvalid_0's auc: 0.857381\n",
      "Training until validation scores don't improve for 50 rounds\n",
      "[25]\tvalid_0's auc: 0.856692\n",
      "[50]\tvalid_0's auc: 0.857404\n",
      "[75]\tvalid_0's auc: 0.857722\n",
      "[100]\tvalid_0's auc: 0.85771\n",
      "[125]\tvalid_0's auc: 0.857662\n",
      "Early stopping, best iteration is:\n",
      "[83]\tvalid_0's auc: 0.857763\n"
     ]
    },
    {
     "name": "stderr",
     "output_type": "stream",
     "text": [
      "/Users/mavillan/miniconda3/lib/python3.8/site-packages/lightgbm/basic.py:1551: UserWarning: Using categorical_feature in Dataset.\n",
      "  warnings.warn('Using categorical_feature in Dataset.')\n",
      "/Users/mavillan/miniconda3/lib/python3.8/site-packages/lightgbm/basic.py:1286: UserWarning: Overriding the parameters from Reference Dataset.\n",
      "  warnings.warn('Overriding the parameters from Reference Dataset.')\n",
      "/Users/mavillan/miniconda3/lib/python3.8/site-packages/lightgbm/basic.py:1098: UserWarning: categorical_column in param dict is overridden.\n",
      "  warnings.warn('{} in param dict is overridden.'.format(cat_alias))\n"
     ]
    },
    {
     "name": "stdout",
     "output_type": "stream",
     "text": [
      "Training until validation scores don't improve for 50 rounds\n",
      "[25]\tvalid_0's auc: 0.857535\n",
      "[50]\tvalid_0's auc: 0.858334\n",
      "[75]\tvalid_0's auc: 0.858509\n",
      "[100]\tvalid_0's auc: 0.85858\n",
      "[125]\tvalid_0's auc: 0.858615\n",
      "[150]\tvalid_0's auc: 0.85868\n",
      "[175]\tvalid_0's auc: 0.858611\n",
      "[200]\tvalid_0's auc: 0.858739\n",
      "[225]\tvalid_0's auc: 0.858722\n",
      "[250]\tvalid_0's auc: 0.858712\n",
      "Early stopping, best iteration is:\n",
      "[203]\tvalid_0's auc: 0.858742\n",
      "Training until validation scores don't improve for 50 rounds\n",
      "[25]\tvalid_0's auc: 0.85859\n",
      "[50]\tvalid_0's auc: 0.859537\n",
      "[75]\tvalid_0's auc: 0.859857\n",
      "[100]\tvalid_0's auc: 0.860095\n",
      "[125]\tvalid_0's auc: 0.860059\n",
      "[150]\tvalid_0's auc: 0.860078\n",
      "Early stopping, best iteration is:\n",
      "[100]\tvalid_0's auc: 0.860095\n",
      "Training until validation scores don't improve for 50 rounds\n",
      "[25]\tvalid_0's auc: 0.856865\n",
      "[50]\tvalid_0's auc: 0.857657\n",
      "[75]\tvalid_0's auc: 0.857965\n",
      "[100]\tvalid_0's auc: 0.858092\n",
      "[125]\tvalid_0's auc: 0.858086\n",
      "[150]\tvalid_0's auc: 0.858067\n",
      "Early stopping, best iteration is:\n",
      "[115]\tvalid_0's auc: 0.858162\n",
      "Training until validation scores don't improve for 50 rounds\n",
      "[25]\tvalid_0's auc: 0.856872\n",
      "[50]\tvalid_0's auc: 0.857867\n",
      "[75]\tvalid_0's auc: 0.858229\n",
      "[100]\tvalid_0's auc: 0.858336\n",
      "[125]\tvalid_0's auc: 0.858344\n",
      "[150]\tvalid_0's auc: 0.858386\n",
      "[175]\tvalid_0's auc: 0.858417\n",
      "[200]\tvalid_0's auc: 0.858441\n",
      "[225]\tvalid_0's auc: 0.858425\n",
      "[250]\tvalid_0's auc: 0.85832\n",
      "[275]\tvalid_0's auc: 0.858175\n",
      "Early stopping, best iteration is:\n",
      "[228]\tvalid_0's auc: 0.858451\n",
      "Training until validation scores don't improve for 50 rounds\n",
      "[25]\tvalid_0's auc: 0.856217\n",
      "[50]\tvalid_0's auc: 0.857063\n",
      "[75]\tvalid_0's auc: 0.857472\n",
      "[100]\tvalid_0's auc: 0.857518\n",
      "[125]\tvalid_0's auc: 0.857481\n",
      "Early stopping, best iteration is:\n",
      "[93]\tvalid_0's auc: 0.857529\n"
     ]
    },
    {
     "name": "stderr",
     "output_type": "stream",
     "text": [
      "/Users/mavillan/miniconda3/lib/python3.8/site-packages/lightgbm/basic.py:1551: UserWarning: Using categorical_feature in Dataset.\n",
      "  warnings.warn('Using categorical_feature in Dataset.')\n",
      "/Users/mavillan/miniconda3/lib/python3.8/site-packages/lightgbm/basic.py:1286: UserWarning: Overriding the parameters from Reference Dataset.\n",
      "  warnings.warn('Overriding the parameters from Reference Dataset.')\n",
      "/Users/mavillan/miniconda3/lib/python3.8/site-packages/lightgbm/basic.py:1098: UserWarning: categorical_column in param dict is overridden.\n",
      "  warnings.warn('{} in param dict is overridden.'.format(cat_alias))\n"
     ]
    },
    {
     "name": "stdout",
     "output_type": "stream",
     "text": [
      "Training until validation scores don't improve for 50 rounds\n",
      "[25]\tvalid_0's auc: 0.856586\n",
      "[50]\tvalid_0's auc: 0.857529\n",
      "[75]\tvalid_0's auc: 0.857731\n",
      "[100]\tvalid_0's auc: 0.857734\n",
      "[125]\tvalid_0's auc: 0.857701\n",
      "Early stopping, best iteration is:\n",
      "[88]\tvalid_0's auc: 0.857797\n",
      "Training until validation scores don't improve for 50 rounds\n",
      "[25]\tvalid_0's auc: 0.856424\n",
      "[50]\tvalid_0's auc: 0.857296\n",
      "[75]\tvalid_0's auc: 0.857665\n",
      "[100]\tvalid_0's auc: 0.857687\n",
      "[125]\tvalid_0's auc: 0.857665\n",
      "[150]\tvalid_0's auc: 0.857625\n",
      "Early stopping, best iteration is:\n",
      "[109]\tvalid_0's auc: 0.857723\n",
      "Training until validation scores don't improve for 50 rounds\n",
      "[25]\tvalid_0's auc: 0.856601\n",
      "[50]\tvalid_0's auc: 0.857538\n",
      "[75]\tvalid_0's auc: 0.857948\n",
      "[100]\tvalid_0's auc: 0.857944\n",
      "[125]\tvalid_0's auc: 0.857981\n",
      "[150]\tvalid_0's auc: 0.857954\n",
      "Early stopping, best iteration is:\n",
      "[118]\tvalid_0's auc: 0.858028\n",
      "Training until validation scores don't improve for 50 rounds\n",
      "[25]\tvalid_0's auc: 0.856241\n",
      "[50]\tvalid_0's auc: 0.857065\n",
      "[75]\tvalid_0's auc: 0.857566\n",
      "[100]\tvalid_0's auc: 0.857592\n",
      "[125]\tvalid_0's auc: 0.857482\n",
      "Early stopping, best iteration is:\n",
      "[99]\tvalid_0's auc: 0.857599\n",
      "Training until validation scores don't improve for 50 rounds\n",
      "[25]\tvalid_0's auc: 0.856933\n",
      "[50]\tvalid_0's auc: 0.857413\n",
      "[75]\tvalid_0's auc: 0.85788\n",
      "[100]\tvalid_0's auc: 0.857883\n",
      "[125]\tvalid_0's auc: 0.857809\n",
      "Early stopping, best iteration is:\n",
      "[83]\tvalid_0's auc: 0.857924\n"
     ]
    }
   ],
   "source": [
    "cv_scores = list()\n",
    "\n",
    "for train_idx,valid_idx in skf_outer.split(train.loc[:,input_cols], train.loc[:,target]):\n",
    "        \n",
    "    X_train,y_train = train.loc[train_idx,input_cols], train.loc[train_idx,target]\n",
    "    X_valid,y_valid = train.loc[valid_idx,input_cols], train.loc[valid_idx,target]\n",
    "        \n",
    "    best_iterations = list()\n",
    "    skf_inner = model_selection.StratifiedKFold(n_splits=5, shuffle=True, random_state=19)\n",
    "    \n",
    "    for train_idx_inner,valid_idx_inner in skf_inner.split(X_train, y_train):\n",
    "        X_train_inner,y_train_inner = X_train.iloc[train_idx_inner,:], y_train.iloc[train_idx_inner]\n",
    "        X_valid_inner,y_valid_inner = X_train.iloc[valid_idx_inner,:], y_train.iloc[valid_idx_inner]\n",
    "        \n",
    "        train_dset = cast_to_lgb_dset(X_train_inner, y_train_inner, categoric_cols)\n",
    "        valid_dset = cast_to_lgb_dset(X_valid_inner, y_valid_inner, categoric_cols)\n",
    "\n",
    "        _model = lgb.train(\n",
    "            train_set = train_dset,\n",
    "            valid_sets = [valid_dset, ],\n",
    "            num_boost_round = 10000,\n",
    "            early_stopping_rounds = 50,\n",
    "            params = model_params, \n",
    "            verbose_eval=25,\n",
    "        )\n",
    "        best_iterations.append(_model.best_iteration)\n",
    "        \n",
    "    best_iteration = np.median(best_iterations)\n",
    "    \n",
    "    # trains a model over outer split using best iteration obtained from inner loop\n",
    "    # (without using early stopping to avoid leakage)\n",
    "\n",
    "    train_dset = cast_to_lgb_dset(X_train, y_train, categoric_cols)\n",
    "    \n",
    "    model = lgb.train(\n",
    "        train_set = train_dset,\n",
    "        num_boost_round = int(best_iteration),\n",
    "        params = model_params)\n",
    "    preds = model.predict(X_valid)\n",
    "    auc = metrics.roc_auc_score(y_valid, preds)\n",
    "    \n",
    "    cv_scores.append(auc)\n",
    "    "
   ]
  },
  {
   "cell_type": "code",
   "execution_count": 129,
   "metadata": {},
   "outputs": [
    {
     "name": "stdout",
     "output_type": "stream",
     "text": [
      "CV AUC: 0.85827\n"
     ]
    }
   ],
   "source": [
    "print(f\"CV AUC: {np.mean(cv_scores):0.5f}\")"
   ]
  },
  {
   "cell_type": "markdown",
   "metadata": {},
   "source": [
    "***\n",
    "### Repeated cross validation\n",
    "\n",
    "First make a CV split to find a good value for the number of boosting rounds, then validate your model on a different CV split"
   ]
  },
  {
   "cell_type": "code",
   "execution_count": 130,
   "metadata": {},
   "outputs": [],
   "source": [
    "skf = model_selection.StratifiedKFold(n_splits=5, shuffle=True, random_state=129)"
   ]
  },
  {
   "cell_type": "code",
   "execution_count": 131,
   "metadata": {},
   "outputs": [
    {
     "name": "stderr",
     "output_type": "stream",
     "text": [
      "/Users/mavillan/miniconda3/lib/python3.8/site-packages/lightgbm/basic.py:1551: UserWarning: Using categorical_feature in Dataset.\n",
      "  warnings.warn('Using categorical_feature in Dataset.')\n",
      "/Users/mavillan/miniconda3/lib/python3.8/site-packages/lightgbm/basic.py:1286: UserWarning: Overriding the parameters from Reference Dataset.\n",
      "  warnings.warn('Overriding the parameters from Reference Dataset.')\n",
      "/Users/mavillan/miniconda3/lib/python3.8/site-packages/lightgbm/basic.py:1098: UserWarning: categorical_column in param dict is overridden.\n",
      "  warnings.warn('{} in param dict is overridden.'.format(cat_alias))\n"
     ]
    },
    {
     "name": "stdout",
     "output_type": "stream",
     "text": [
      "Training until validation scores don't improve for 50 rounds\n",
      "[25]\tvalid_0's auc: 0.854761\n",
      "[50]\tvalid_0's auc: 0.855633\n",
      "[75]\tvalid_0's auc: 0.855884\n",
      "[100]\tvalid_0's auc: 0.856027\n",
      "[125]\tvalid_0's auc: 0.856047\n",
      "[150]\tvalid_0's auc: 0.856066\n",
      "[175]\tvalid_0's auc: 0.856031\n",
      "[200]\tvalid_0's auc: 0.856096\n",
      "Early stopping, best iteration is:\n",
      "[157]\tvalid_0's auc: 0.856111\n",
      "Training until validation scores don't improve for 50 rounds\n",
      "[25]\tvalid_0's auc: 0.856272\n",
      "[50]\tvalid_0's auc: 0.857507\n",
      "[75]\tvalid_0's auc: 0.858026\n",
      "[100]\tvalid_0's auc: 0.858128\n",
      "[125]\tvalid_0's auc: 0.858145\n",
      "[150]\tvalid_0's auc: 0.858086\n",
      "Early stopping, best iteration is:\n",
      "[119]\tvalid_0's auc: 0.858155\n",
      "Training until validation scores don't improve for 50 rounds\n",
      "[25]\tvalid_0's auc: 0.857685\n",
      "[50]\tvalid_0's auc: 0.858633\n",
      "[75]\tvalid_0's auc: 0.859105\n",
      "[100]\tvalid_0's auc: 0.859141\n",
      "[125]\tvalid_0's auc: 0.859084\n",
      "Early stopping, best iteration is:\n",
      "[92]\tvalid_0's auc: 0.859192\n",
      "Training until validation scores don't improve for 50 rounds\n",
      "[25]\tvalid_0's auc: 0.857579\n",
      "[50]\tvalid_0's auc: 0.858415\n",
      "[75]\tvalid_0's auc: 0.858624\n",
      "[100]\tvalid_0's auc: 0.858818\n",
      "[125]\tvalid_0's auc: 0.858786\n",
      "[150]\tvalid_0's auc: 0.858771\n",
      "Early stopping, best iteration is:\n",
      "[103]\tvalid_0's auc: 0.858838\n",
      "Training until validation scores don't improve for 50 rounds\n",
      "[25]\tvalid_0's auc: 0.857429\n",
      "[50]\tvalid_0's auc: 0.858112\n",
      "[75]\tvalid_0's auc: 0.858297\n",
      "[100]\tvalid_0's auc: 0.858437\n",
      "[125]\tvalid_0's auc: 0.858496\n",
      "[150]\tvalid_0's auc: 0.858508\n",
      "Early stopping, best iteration is:\n",
      "[107]\tvalid_0's auc: 0.858525\n"
     ]
    }
   ],
   "source": [
    "best_iterations = list()\n",
    "\n",
    "for train_idx,valid_idx in skf.split(train.loc[:,input_cols], train.loc[:,target]):\n",
    "    \n",
    "    X_train,y_train = train.loc[train_idx,input_cols], train.loc[train_idx,target]\n",
    "    X_valid,y_valid = train.loc[valid_idx,input_cols], train.loc[valid_idx,target]\n",
    "\n",
    "    train_dset = cast_to_lgb_dset(X_train, y_train, categoric_cols)\n",
    "    valid_dset = cast_to_lgb_dset(X_valid, y_valid, categoric_cols)\n",
    "    \n",
    "    _model = lgb.train(\n",
    "    train_set = train_dset,\n",
    "    valid_sets = [valid_dset, ],\n",
    "    num_boost_round = 10000,\n",
    "    early_stopping_rounds = 50,\n",
    "    params = model_params, \n",
    "    verbose_eval=25,\n",
    "    )\n",
    "    \n",
    "    best_iterations.append(_model.best_iteration)"
   ]
  },
  {
   "cell_type": "code",
   "execution_count": 137,
   "metadata": {},
   "outputs": [
    {
     "name": "stderr",
     "output_type": "stream",
     "text": [
      "/Users/mavillan/miniconda3/lib/python3.8/site-packages/lightgbm/basic.py:1551: UserWarning: Using categorical_feature in Dataset.\n",
      "  warnings.warn('Using categorical_feature in Dataset.')\n",
      "/Users/mavillan/miniconda3/lib/python3.8/site-packages/lightgbm/basic.py:1551: UserWarning: Using categorical_feature in Dataset.\n",
      "  warnings.warn('Using categorical_feature in Dataset.')\n",
      "/Users/mavillan/miniconda3/lib/python3.8/site-packages/lightgbm/basic.py:1551: UserWarning: Using categorical_feature in Dataset.\n",
      "  warnings.warn('Using categorical_feature in Dataset.')\n",
      "/Users/mavillan/miniconda3/lib/python3.8/site-packages/lightgbm/basic.py:1551: UserWarning: Using categorical_feature in Dataset.\n",
      "  warnings.warn('Using categorical_feature in Dataset.')\n",
      "/Users/mavillan/miniconda3/lib/python3.8/site-packages/lightgbm/basic.py:1551: UserWarning: Using categorical_feature in Dataset.\n",
      "  warnings.warn('Using categorical_feature in Dataset.')\n"
     ]
    }
   ],
   "source": [
    "best_iteration = np.median(best_iterations)\n",
    "skf = model_selection.StratifiedKFold(n_splits=5, shuffle=True, random_state=19)\n",
    "\n",
    "cv_scores = list()\n",
    "\n",
    "for train_idx,valid_idx in skf.split(train.loc[:,input_cols], train.loc[:,target]):\n",
    "    \n",
    "    X_train,y_train = train.loc[train_idx,input_cols], train.loc[train_idx,target]\n",
    "    X_valid,y_valid = train.loc[valid_idx,input_cols], train.loc[valid_idx,target]\n",
    "\n",
    "    train_dset = cast_to_lgb_dset(X_train, y_train, categoric_cols)\n",
    "    \n",
    "    model = lgb.train(\n",
    "        train_set = train_dset,\n",
    "        num_boost_round = int(best_iteration),\n",
    "        params = model_params)\n",
    "    \n",
    "    preds = model.predict(X_valid)\n",
    "    auc = metrics.roc_auc_score(y_valid, preds)\n",
    "    cv_scores.append(auc)  "
   ]
  },
  {
   "cell_type": "code",
   "execution_count": 138,
   "metadata": {},
   "outputs": [
    {
     "name": "stdout",
     "output_type": "stream",
     "text": [
      "CV AUC: 0.85824\n"
     ]
    }
   ],
   "source": [
    "print(f\"CV AUC: {np.mean(cv_scores):0.5f}\")"
   ]
  },
  {
   "cell_type": "markdown",
   "metadata": {},
   "source": [
    "***"
   ]
  }
 ],
 "metadata": {
  "kernelspec": {
   "display_name": "Python 3",
   "language": "python",
   "name": "python3"
  },
  "language_info": {
   "codemirror_mode": {
    "name": "ipython",
    "version": 3
   },
   "file_extension": ".py",
   "mimetype": "text/x-python",
   "name": "python",
   "nbconvert_exporter": "python",
   "pygments_lexer": "ipython3",
   "version": "3.8.5"
  }
 },
 "nbformat": 4,
 "nbformat_minor": 4
}
